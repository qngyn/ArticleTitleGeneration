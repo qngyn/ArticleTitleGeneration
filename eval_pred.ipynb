{
 "cells": [
  {
   "cell_type": "markdown",
   "metadata": {},
   "source": [
    "Code for generating the ROUGE-1 and ROUGE-L F-similarity score for the models' predictions on 1000 samples in the validate set\n",
    "The naming of the models is the same as specifed in the final paper for the project"
   ]
  },
  {
   "cell_type": "code",
   "execution_count": null,
   "metadata": {},
   "outputs": [],
   "source": [
    "from inference.lstm_encoder_decoder_inference import convert_sequence_to_title as convert_sequence_to_title_model_1, convert_sequence_to_article as convert_sequence_to_article_model_1, decode_sequence as decode_sequence_model_1\n",
    "\n",
    "from inference.bi_lstm_encoder_lstm_decoder_inference import convert_sequence_to_title as convert_sequence_to_title_model_2, convert_sequence_to_article as convert_sequence_to_article_model_2, decode_sequence as decode_sequence_model_2\n",
    "\n",
    "from inference.glove_bi_lstm_encoder_lstm_decoder_inference import convert_sequence_to_title as convert_sequence_to_title_model_3, convert_sequence_to_article as convert_sequence_to_article_model_3, decode_sequence as decode_sequence_model_3\n",
    "\n",
    "from inference.reverse_input_bi_lstm_encoder_lstm_decoder_inference import convert_sequence_to_title as convert_sequence_to_title_model_4, convert_sequence_to_article as convert_sequence_to_article_model_4, decode_sequence as decode_sequence_model_4\n",
    "\n",
    "import numpy as np\n"
   ]
  },
  {
   "cell_type": "code",
   "execution_count": null,
   "metadata": {},
   "outputs": [],
   "source": [
    "from rouge_score import rouge_scorer\n",
    "scorer = rouge_scorer.RougeScorer(['rouge1', 'rougeL'], use_stemmer=True)"
   ]
  },
  {
   "cell_type": "code",
   "execution_count": null,
   "metadata": {},
   "outputs": [],
   "source": [
    "model_name = \"bi_lstm_encoder_lstm_decoder\"\n",
    "max_len_full_article = 516"
   ]
  },
  {
   "cell_type": "code",
   "execution_count": null,
   "metadata": {},
   "outputs": [],
   "source": [
    "path_to_data = \"train_val_nd_array\"\n",
    "\n",
    "# train set and validate sets are the same for all models \n",
    "x_train = np.load(\"{}/{}/x_train.npy\".format(path_to_data, model_name))\n",
    "y_train = np.load(\"{}/{}/y_train.npy\".format(path_to_data, model_name))\n",
    "x_validate = np.load(\"{}/{}/x_validate.npy\".format(path_to_data, model_name))\n",
    "y_validate = np.load(\"{}/{}/y_validate.npy\".format(path_to_data, model_name))"
   ]
  },
  {
   "cell_type": "code",
   "execution_count": null,
   "metadata": {},
   "outputs": [],
   "source": [
    "np.random.seed(119)\n",
    "rand_idx = np.random.choice(x_validate.shape[0], 1000)\n",
    "x_val_random = x_validate[rand_idx]\n",
    "y_val_random = y_validate[rand_idx]"
   ]
  },
  {
   "cell_type": "markdown",
   "metadata": {},
   "source": [
    "## Evaluate model 1: "
   ]
  },
  {
   "cell_type": "code",
   "execution_count": null,
   "metadata": {},
   "outputs": [],
   "source": [
    "f_measure_rouge_1_model_1 = 0\n",
    "f_measure_rouge_L_model_1 = 0\n",
    "\n",
    "for i in range(0, len(x_val_random)):\n",
    "    # print(\"Article:\", convert_sequence_to_article_model_1(x_val_random[i]))\n",
    "    original_title = convert_sequence_to_title_model_1(y_val_random[i])\n",
    "    predicted_title = decode_sequence_model_1(x_val_random[i].reshape(1, max_len_full_article))\n",
    "    # print(\"Original Title:\", original_title)\n",
    "    # print(\"Predicted Title:\", predicted_title)\n",
    "    rouge_score = scorer.score(original_title, predicted_title)\n",
    "    # print(rouge_score)\n",
    "    f_measure_rouge_1_model_1 += rouge_score['rouge1'].fmeasure\n",
    "    f_measure_rouge_L_model_1 += rouge_score['rougeL'].fmeasure"
   ]
  },
  {
   "cell_type": "code",
   "execution_count": null,
   "metadata": {},
   "outputs": [],
   "source": [
    "print(f_measure_rouge_1_model_1/1000)\n",
    "print(f_measure_rouge_L_model_1/1000)"
   ]
  },
  {
   "cell_type": "markdown",
   "metadata": {},
   "source": [
    "## Evaluate model 2"
   ]
  },
  {
   "cell_type": "code",
   "execution_count": null,
   "metadata": {},
   "outputs": [],
   "source": [
    "f_measure_rouge_1_model_2 = 0\n",
    "f_measure_rouge_L_model_2 = 0\n",
    "\n",
    "precision_rouge_1_model_2 = 0\n",
    "precision_rouge_L_model_2 = 0\n",
    "\n",
    "recall_rouge_1_model_2 = 0\n",
    "recall_rouge_L_model_2 = 0\n",
    "for i in range(0, len(x_val_random)):\n",
    "    # print(\"Article:\", convert_sequence_to_article_model_1(x_val_random[i]))\n",
    "    original_title = convert_sequence_to_title_model_2(y_val_random[i])\n",
    "    predicted_title = decode_sequence_model_2(x_val_random[i].reshape(1, max_len_full_article))\n",
    "    # print(\"Original Title:\", original_title)\n",
    "    # print(\"Predicted Title:\", predicted_title)\n",
    "    rouge_score = scorer.score(original_title, predicted_title)\n",
    "    # print(rouge_score)\n",
    "    f_measure_rouge_1_model_2 += rouge_score['rouge1'].fmeasure\n",
    "    f_measure_rouge_L_model_2 += rouge_score['rougeL'].fmeasure\n",
    "\n",
    "    precision_rouge_1_model_2 += rouge_score['rouge1'].precision\n",
    "    precision_rouge_L_model_2 += rouge_score['rougeL'].precision\n",
    "\n",
    "    recall_rouge_1_model_2 += rouge_score['rouge1'].recall\n",
    "    recall_rouge_L_model_2 += rouge_score['rougeL'].recall"
   ]
  },
  {
   "cell_type": "code",
   "execution_count": null,
   "metadata": {},
   "outputs": [],
   "source": [
    "print(f_measure_rouge_1_model_2/1000)\n",
    "print(f_measure_rouge_L_model_2/1000)"
   ]
  },
  {
   "cell_type": "markdown",
   "metadata": {},
   "source": [
    "## Evaluate Model 3"
   ]
  },
  {
   "cell_type": "markdown",
   "metadata": {},
   "source": [
    "Model 3 and 4 has the fixed size of the source sequence to be 512, instead of 516 like the above 2 models\n",
    "(because of my mistake that is too late to fix now...)"
   ]
  },
  {
   "cell_type": "code",
   "execution_count": null,
   "metadata": {},
   "outputs": [],
   "source": [
    "path_to_data = \"train_val_nd_array\"\n",
    "model_3_name = \"glove_bi_lstm_encoder_lstm_decoder\"\n",
    "# train set and validate sets are the same for all models \n",
    "x_train = np.load(\"{}/{}/x_train.npy\".format(path_to_data, model_3_name))\n",
    "y_train = np.load(\"{}/{}/y_train.npy\".format(path_to_data, model_3_name))\n",
    "x_validate = np.load(\"{}/{}/x_validate.npy\".format(path_to_data, model_3_name))\n",
    "y_validate = np.load(\"{}/{}/y_validate.npy\".format(path_to_data, model_3_name))\n",
    "\n",
    "rand_idx = np.random.choice(x_validate.shape[0], 1000)\n",
    "x_val_random = x_validate[rand_idx]\n",
    "y_val_random = y_validate[rand_idx]"
   ]
  },
  {
   "cell_type": "code",
   "execution_count": null,
   "metadata": {},
   "outputs": [],
   "source": [
    "f_measure_rouge_1_model_3 = 0\n",
    "f_measure_rouge_L_model_3 = 0\n",
    "\n",
    "for i in range(0, len(x_val_random)):\n",
    "    # print(\"Article:\", convert_sequence_to_article_model_3(x_val_random[i]))\n",
    "    original_title = convert_sequence_to_title_model_3(y_val_random[i])\n",
    "    predicted_title = decode_sequence_model_3(x_val_random[i].reshape(1, 512))\n",
    "    # print(\"Original Title:\", original_title)\n",
    "    # print(\"Predicted Title:\", predicted_title)\n",
    "    rouge_score = scorer.score(original_title, predicted_title)\n",
    "    # print(rouge_score)\n",
    "    f_measure_rouge_1_model_3 += rouge_score['rouge1'].fmeasure\n",
    "    f_measure_rouge_L_model_3 += rouge_score['rougeL'].fmeasure\n",
    "  "
   ]
  },
  {
   "cell_type": "code",
   "execution_count": null,
   "metadata": {},
   "outputs": [],
   "source": [
    "print(f_measure_rouge_1_model_3/1000)\n",
    "print(f_measure_rouge_L_model_3/1000)"
   ]
  },
  {
   "cell_type": "code",
   "execution_count": null,
   "metadata": {},
   "outputs": [],
   "source": [
    "f_measure_rouge_1_model_4 = 0\n",
    "f_measure_rouge_L_model_4 = 0\n",
    "\n",
    "for i in range(0, len(x_val_random)):\n",
    "    # print(\"Article:\", convert_sequence_to_article_model_4(x_val_random[i]))\n",
    "    original_title = convert_sequence_to_title_model_4(y_val_random[i])\n",
    "    predicted_title = decode_sequence_model_4(x_val_random[i].reshape(1, 512))\n",
    "    # print(\"Original Title:\", original_title)\n",
    "    # print(\"Predicted Title:\", predicted_title)\n",
    "    rouge_score = scorer.score(original_title, predicted_title)\n",
    "    # print(rouge_score)\n",
    "    f_measure_rouge_1_model_4 += rouge_score['rouge1'].fmeasure\n",
    "    f_measure_rouge_L_model_4 += rouge_score['rougeL'].fmeasure"
   ]
  },
  {
   "cell_type": "code",
   "execution_count": null,
   "metadata": {},
   "outputs": [],
   "source": [
    "print(f_measure_rouge_1_model_4/1000)\n",
    "print(f_measure_rouge_L_model_4/1000)"
   ]
  }
 ],
 "metadata": {
  "kernelspec": {
   "display_name": "Python 3.8.3 64-bit ('env': venv)",
   "name": "python383jvsc74a57bd002c614832ea1d1de1ae0500c674c1ce113a001e531181670fddb74e70f9d1009"
  },
  "language_info": {
   "codemirror_mode": {
    "name": "ipython",
    "version": 3
   },
   "file_extension": ".py",
   "mimetype": "text/x-python",
   "name": "python",
   "nbconvert_exporter": "python",
   "pygments_lexer": "ipython3",
   "version": "3.8.3"
  },
  "metadata": {
   "interpreter": {
    "hash": "02c614832ea1d1de1ae0500c674c1ce113a001e531181670fddb74e70f9d1009"
   }
  },
  "orig_nbformat": 2
 },
 "nbformat": 4,
 "nbformat_minor": 2
}
