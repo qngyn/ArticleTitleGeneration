{
  "cells": [
    {
      "cell_type": "markdown",
      "metadata": {},
      "source": [
        "This notebook includes code to build the inference model for model 5 (model with stacked Bi-LSTM encoder and Bi-LSTM decoder with Keras' Luong-style Attention), as well as to generate predicted title from a given article\n",
        "\n",
        "The inference for this model is not working, despite the high val_acc\n",
        "\n",
        "I have consulted and adapted code from the following sources:\n",
        "- A. Pai, “Text Summarization: Text Summarization Using Deep Learning”, 2020 Analytics Vidhya. [Online]. Available: https://www.analyticsvidhya.com/blog/2019/06/comprehensive-guide-text-summarization-using-deep-learning-python/. [Accessed: 21-Apr-2021]. "
      ]
    },
    {
      "cell_type": "code",
      "execution_count": null,
      "metadata": {
        "id": "9_kqXpzhbeeC"
      },
      "outputs": [],
      "source": [
        "import tensorflow as tf\n",
        "import numpy as np  \n",
        "import pandas as pd \n",
        "import re           \n",
        "from keras.preprocessing.text import Tokenizer \n",
        "from keras.preprocessing.sequence import pad_sequences\n",
        "from nltk.corpus import stopwords   \n",
        "from tensorflow.keras.layers import Input, LSTM, Embedding, Dense, Concatenate, TimeDistributed, Bidirectional\n",
        "from tensorflow.keras.models import Model, load_model\n"
      ]
    },
    {
      "cell_type": "code",
      "execution_count": null,
      "metadata": {},
      "outputs": [],
      "source": [
        "import sys\n",
        "sys.path.append('../')\n",
        "from util import preprocess_text\n",
        "sys.path.append('../util')\n",
        "from preprocess_text import preprocess_text"
      ]
    },
    {
      "cell_type": "markdown",
      "metadata": {},
      "source": [
        "# Load Saved Model"
      ]
    },
    {
      "cell_type": "code",
      "execution_count": null,
      "metadata": {
        "id": "SE4ErJx3bXt7"
      },
      "outputs": [],
      "source": [
        "model_name = 'bi_lstm_encoder_decoder_glove'"
      ]
    },
    {
      "cell_type": "code",
      "execution_count": null,
      "metadata": {
        "id": "bSkswH2TaFe9"
      },
      "outputs": [],
      "source": [
        "model = load_model(\"../models/{}\".format(model_name))"
      ]
    },
    {
      "cell_type": "code",
      "execution_count": null,
      "metadata": {
        "colab": {
          "base_uri": "https://localhost:8080/",
          "height": 1000
        },
        "id": "lyyWJ1w2ch-F",
        "outputId": "411144db-b8ea-4166-a8ed-ca3195a2b35e"
      },
      "outputs": [],
      "source": [
        "model.summary()\n",
        "tf.keras.utils.plot_model(model)"
      ]
    },
    {
      "cell_type": "code",
      "execution_count": null,
      "metadata": {
        "colab": {
          "base_uri": "https://localhost:8080/"
        },
        "id": "NVuVoM3AbtYL",
        "outputId": "f7e8d846-c4b4-403e-cc26-09e4c22785c1"
      },
      "outputs": [],
      "source": [
        "model.layers"
      ]
    },
    {
      "cell_type": "code",
      "execution_count": null,
      "metadata": {
        "id": "Lgvb1i8bcOHr"
      },
      "outputs": [],
      "source": [
        "latent_dim = 128"
      ]
    },
    {
      "cell_type": "code",
      "execution_count": null,
      "metadata": {
        "id": "p792DiiLfxon"
      },
      "outputs": [],
      "source": [
        "max_len_full_article = model.inputs[0].shape[1]\n",
        "max_len_title = 25"
      ]
    },
    {
      "cell_type": "code",
      "execution_count": null,
      "metadata": {},
      "outputs": [],
      "source": [
        "model.layers[6]"
      ]
    },
    {
      "cell_type": "markdown",
      "metadata": {
        "id": "m8uUtBtWfKbA"
      },
      "source": []
    },
    {
      "cell_type": "code",
      "execution_count": null,
      "metadata": {
        "id": "79bQJgpXcICh"
      },
      "outputs": [],
      "source": [
        "encoder_inputs = model.input[0]\n",
        "encoder_outputs, state_forward_h, state_forward_c, state_backward_h, state_backward_c = model.layers[6].output\n",
        "# state_h = Concatenate()([state_forward_h, state_backward_h])\n",
        "# state_c = Concatenate()([state_forward_c, state_backward_c])\n",
        "# encoder_states = [state_h, state_c]"
      ]
    },
    {
      "cell_type": "code",
      "execution_count": null,
      "metadata": {
        "id": "F2JWx_PCdp26"
      },
      "outputs": [],
      "source": [
        "decoder_inputs = model.input[1]\n",
        "decoder_embedding_layer = model.layers[5]\n",
        "decoder_lstm = model.layers[7]\n",
        "attention_layer = model.layers[8]\n",
        "decoder_dense = model.layers[10]"
      ]
    },
    {
      "cell_type": "markdown",
      "metadata": {},
      "source": [
        "# Build Inference Model"
      ]
    },
    {
      "cell_type": "code",
      "execution_count": null,
      "metadata": {
        "id": "9-i15J6hcTox"
      },
      "outputs": [],
      "source": [
        "# Encode the input sequence to get the feature vector\n",
        "# encoder_model = Model(inputs=encoder_inputs,outputs=[encoder_outputs, state_h, state_c])\n",
        "# state_h = Concatenate()([forward_h_3, backward_h_3])\n",
        "# state_c = Concatenate()([forward_c_3, backward_c_3])\n",
        "# encoder_model = Model(inputs=encoder_inputs,outputs=[encoder_outputs, state_h, state_c])\n",
        "\n",
        "encoder_model = Model(inputs=encoder_inputs,outputs=[encoder_outputs, state_forward_h, state_forward_c, state_backward_h, state_backward_c])\n",
        "\n",
        "# Decoder setup\n",
        "# Below tensors will hold the states of the previous time step\n",
        "decoder_state_input_h = Input(shape=(latent_dim ,), name=\"input_3\")\n",
        "decoder_state_input_c = Input(shape=(latent_dim ,), name=\"input_4\")\n",
        "\n",
        "decoder_state_backward_input_h = Input(shape=(latent_dim, ), name=\"input_5\")\n",
        "decoder_state_backward_input_c = Input(shape=(latent_dim,), name=\"input_6\")\n",
        "\n",
        "# decoder_hidden_state_input = Input(shape=(max_len_full_text, latent_dim))\n",
        "decoder_hidden_state_input = Input(shape=(max_len_full_article, 256), name=\"input_7\")\n",
        "\n",
        "# Get the embeddings of the decoder sequence\n",
        "dec_emb2= decoder_embedding_layer(decoder_inputs) \n",
        "print(dec_emb2)\n",
        "# To predict the next word in the sequence, set the initial states to the states from the previous time step\n",
        "# decoder_outputs2, state_h2, state_c2 = decoder_lstm(dec_emb2, initial_state=[decoder_state_input_h, decoder_state_input_c])\n",
        "decoder_state_inputs = [decoder_state_input_h, decoder_state_input_c, decoder_state_backward_input_h, decoder_state_backward_input_c]\n",
        "decoder_outputs2, state_forward_h_2, state_forward_c_2, state_backward_h_2, state_backward_c_2 = decoder_lstm(dec_emb2, initial_state=decoder_state_inputs)\n",
        "\n",
        "# attention inference\n",
        "\n",
        "attn_out_inf = attention_layer([decoder_outputs2, decoder_hidden_state_input])\n",
        "\n",
        "# attn_out_inf = tf.keras.layers.Attention()([decoder_outputs2, decoder_hidden_state_input])\n",
        "decoder_inf_concat = Concatenate(axis=-1, name='concat')([decoder_outputs2, attn_out_inf])\n",
        "\n",
        "# A dense softmax layer to generate prob dist. over the target vocabulary\n",
        "decoder_outputs2 = decoder_dense(decoder_inf_concat) \n",
        "\n",
        "# Final decoder model\n",
        "# decoder_model = Model(\n",
        "#     [decoder_inputs] + [decoder_hidden_state_input,decoder_state_input_h, decoder_state_input_c],\n",
        "#     [decoder_outputs2] + [state_h2, state_c2])\n",
        "decoder_model = Model(\n",
        "    inputs = [decoder_inputs] + [decoder_hidden_state_input,decoder_state_input_h, decoder_state_input_c, decoder_state_backward_input_h, decoder_state_backward_input_c],\n",
        "    outputs = [decoder_outputs2] + [state_forward_h_2, state_forward_c_2, state_backward_h_2, state_backward_c_2])"
      ]
    },
    {
      "cell_type": "markdown",
      "metadata": {},
      "source": [
        "### Greedy decoding"
      ]
    },
    {
      "cell_type": "code",
      "execution_count": null,
      "metadata": {
        "id": "e7ILHgSThKp8"
      },
      "outputs": [],
      "source": [
        "'''\n",
        "Decode sequence by using greedy decoding\n",
        "'''\n",
        "def decode_sequence(input_seq): \n",
        "    # Encode the input as state vectors\n",
        "    e_out, e_forward_h, e_forward_c, e_backward_h, e_backward_c = encoder_model.predict(input_seq)\n",
        "    \n",
        "    # Generate empty target sequence of length 1.\n",
        "    target_seq = np.zeros((1,1))\n",
        "    \n",
        "    # Initialize the target sequence with the start token\n",
        "    target_seq[0, 0] = target_word_index['sostoken']\n",
        "\n",
        "    stop_condition = False\n",
        "    decoded_sentence = ''\n",
        "\n",
        "    while not stop_condition:\n",
        "      \n",
        "        output_tokens, output_forward_h, output_forward_c, output_backward_h, output_backward_c = decoder_model.predict([target_seq] + [e_out,  e_forward_h, e_forward_c, e_backward_h, e_backward_c])\n",
        "\n",
        "        # Choose predicted token greedy\n",
        "        predict_token_index = np.argmax(output_tokens[0, -1, :])\n",
        "        predict_token = reverse_target_word_index[str(predict_token_index)]\n",
        "\n",
        "        \n",
        "        if(predict_token!='eostoken'):\n",
        "            decoded_sentence += ' '+predict_token\n",
        "\n",
        "        # Stop condition is either hitting max length for title or found the end token eostoken.\n",
        "        if (predict_token == 'eostoken' or len(decoded_sentence.split()) >= (max_len_title-1)):\n",
        "            stop_condition = True\n",
        "\n",
        "        # Update the target sequence (of length 1).\n",
        "        target_seq = np.zeros((1,1))\n",
        "        target_seq[0, 0] = predict_token_index\n",
        "\n",
        "        # Update internal states\n",
        "        e_forward_h, e_forward_c, e_backward_h, e_backward_c = output_forward_h, output_forward_c, output_backward_h, output_backward_c\n",
        "\n",
        "    return decoded_sentence"
      ]
    },
    {
      "cell_type": "code",
      "execution_count": null,
      "metadata": {
        "id": "RXd9nv4khNN5"
      },
      "outputs": [],
      "source": [
        "def convert_sequence_to_title(input_sequence):\n",
        "    ret_title=''\n",
        "    for word_token in input_sequence:\n",
        "        if ((word_token!=0 and word_token!=target_word_index['sostoken']) and word_token!=target_word_index['eostoken']):\n",
        "            ret_title = ret_title + reverse_target_word_index[str(word_token)] + ' '\n",
        "    return ret_title\n",
        "\n",
        "def convert_sequence_to_article(input_sequence):\n",
        "    ret_article=''\n",
        "    for word_token in input_sequence:\n",
        "        if(word_token!=0):\n",
        "            ret_article = ret_article+reverse_source_word_index[str(word_token)]+' '\n",
        "    return ret_article"
      ]
    },
    {
      "cell_type": "code",
      "execution_count": null,
      "metadata": {
        "id": "EjffL79rl-EB"
      },
      "outputs": [],
      "source": [
        "path_to_data = \"train_val_nd_array\"\n",
        "x_train = np.load(\"../{}/{}/x_train.npy\".format(path_to_data, \"bi_lstm_encoder_lstm_decoder\"))\n",
        "y_train = np.load(\"../{}/{}/y_train.npy\".format(path_to_data, \"bi_lstm_encoder_lstm_decoder\"))\n",
        "# x_validate = np.load(\"../{}/{}/x_validate.npy\".format(path_to_data, model_name))\n",
        "# y_validate = np.load(\"../{}/{}/y_validate.npy\".format(path_to_data, model_name))"
      ]
    },
    {
      "cell_type": "code",
      "execution_count": null,
      "metadata": {
        "colab": {
          "base_uri": "https://localhost:8080/"
        },
        "id": "4aNd7wg5nmNE",
        "outputId": "9c53c73c-d2f4-4f3b-d8a3-43d6e1664414"
      },
      "outputs": [],
      "source": [
        "import json \n",
        "\n",
        "with open(\"../word_idx_dict/{}/reverse_source_word_index.json\".format(model_name)) as f:\n",
        "  reverse_source_word_index = json.load(f)\n",
        "\n",
        "with open(\"../word_idx_dict/{}/reverse_target_word_index.json\".format(model_name)) as f:\n",
        "  reverse_target_word_index = json.load(f)\n",
        "\n",
        "with open(\"../word_idx_dict/{}/target_word_index.json\".format(model_name)) as f:\n",
        "  target_word_index = json.load(f)"
      ]
    },
    {
      "cell_type": "code",
      "execution_count": null,
      "metadata": {
        "colab": {
          "base_uri": "https://localhost:8080/",
          "height": 388
        },
        "id": "iaUZsZ-fhO-J",
        "outputId": "943bc428-45f4-4e2e-e44a-2b3964909502"
      },
      "outputs": [],
      "source": [
        "for i in range(0,100):\n",
        "    print(\"Article:\", convert_sequence_to_article(x_train[i]))\n",
        "    print(\"Original Title:\", convert_sequence_to_title(y_train[i]))\n",
        "    print(\"Predicted Title:\", decode_sequence(x_train[i].reshape(1, max_len_full_article)))\n",
        "    print(\"\\n\")"
      ]
    },
    {
      "cell_type": "code",
      "execution_count": null,
      "metadata": {},
      "outputs": [],
      "source": [
        "source_word_index = {word: index for index, word in reverse_source_word_index.items()}"
      ]
    },
    {
      "cell_type": "code",
      "execution_count": null,
      "metadata": {},
      "outputs": [],
      "source": [
        "def generate_title(article_file_txt): \n",
        "    with open(article_file_txt) as f:\n",
        "        article = f.read()\n",
        "\n",
        "    article = preprocess_text(article, is_article=True)\n",
        "    print(article)\n",
        "    input_sequence = [source_word_index[word] for word in article.split(\" \") if word in source_word_index.keys()]\n",
        "\n",
        "    # text_tokenizer = Tokenizer()\n",
        "    # text_train = text_tokenizer.texts_to_sequences(article.split(\" \"))\n",
        "    # max_len_text = max(len(text) for text in text_train)\n",
        "\n",
        "    #padding zero upto maximum length\n",
        "    padded_input_sequence = pad_sequences([input_sequence], maxlen=max_len_full_article, padding='post')\n",
        "    generated_title = decode_sequence(padded_input_sequence.reshape(1, max_len_full_article))\n",
        "    return generated_title\n"
      ]
    },
    {
      "cell_type": "code",
      "execution_count": null,
      "metadata": {},
      "outputs": [],
      "source": [
        "generate_title(\"../sampled_articles/sample_1.txt\")\n"
      ]
    },
    {
      "cell_type": "code",
      "execution_count": null,
      "metadata": {},
      "outputs": [],
      "source": []
    }
  ],
  "metadata": {
    "colab": {
      "collapsed_sections": [],
      "name": "cmpu366_final_proj_inference",
      "provenance": []
    },
    "kernelspec": {
      "display_name": "Python 3.8.3 64-bit",
      "name": "python383jvsc74a57bd0aee8b7b246df8f9039afb4144a1f6fd8d2ca17a180786b69acc140d282b71a49"
    },
    "language_info": {
      "name": "python",
      "version": "3.8.3"
    },
    "metadata": {
      "interpreter": {
        "hash": "aee8b7b246df8f9039afb4144a1f6fd8d2ca17a180786b69acc140d282b71a49"
      }
    }
  },
  "nbformat": 4,
  "nbformat_minor": 0
}
