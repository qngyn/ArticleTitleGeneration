{
  "cells": [
    {
      "cell_type": "markdown",
      "metadata": {},
      "source": [
        "This notebook includes code to build and train model 3 (model with stacked Bi-LSTM encoder and LSTM decoder with Bahdanau Attention using Glove embeddings)\n",
        "\n",
        "I have consulted and adapted code from the following sources:\n",
        "- A. Pai, “Text Summarization: Text Summarization Using Deep Learning”, 2020 Analytics Vidhya. [Online]. Available: https://www.analyticsvidhya.com/blog/2019/06/comprehensive-guide-text-summarization-using-deep-learning-python/. [Accessed: 21-Apr-2021]. \n",
        "- F. Chollet, “Keras documentation: Using pre-trained word embeddings,” Keras, 2020, [Online]. Available: https://keras.io/examples/nlp/pretrained_word_embeddings/. [Accessed: 27-May-2021]. \n",
        "- “Neural machine translation with attention,” TensorFlow. [Online]. Available: https://www.tensorflow.org/tutorials/text/nmt_with_attention. [Accessed: 27-May-2021]. "
      ]
    },
    {
      "cell_type": "code",
      "execution_count": null,
      "metadata": {
        "id": "8JBFFuEEUaAS"
      },
      "outputs": [],
      "source": [
        "import numpy as np  \n",
        "import pandas as pd \n",
        "import tensorflow as tf\n",
        "import keras\n",
        "import re           \n",
        "from bs4 import BeautifulSoup \n",
        "from keras.preprocessing.text import Tokenizer \n",
        "from keras.preprocessing.sequence import pad_sequences\n",
        "from nltk.corpus import stopwords   \n",
        "from tensorflow.keras.layers import Input, LSTM, Bidirectional, Embedding, Dense, Concatenate, TimeDistributed, Bidirectional\n",
        "from tensorflow.keras.models import Model\n",
        "from tensorflow.keras.callbacks import EarlyStopping\n",
        "import warnings\n",
        "pd.set_option(\"display.max_colwidth\", 200)\n",
        "warnings.filterwarnings(\"ignore\")\n",
        "import lxml\n",
        "import os"
      ]
    },
    {
      "cell_type": "code",
      "execution_count": null,
      "metadata": {
        "colab": {
          "base_uri": "https://localhost:8080/"
        },
        "id": "3TNAeH-ZwJGN",
        "outputId": "b857bd4c-ffc8-4441-909d-0127c5a34225"
      },
      "outputs": [],
      "source": [
        "from google.colab import drive\n",
        "drive.mount('/content/drive')"
      ]
    },
    {
      "cell_type": "code",
      "execution_count": null,
      "metadata": {
        "id": "FNZA5bhYz-tg"
      },
      "outputs": [],
      "source": [
        "drive_folder_path = \"drive/MyDrive/Vassar/Junior Year/Spring/CMPU-366/Final Project\""
      ]
    },
    {
      "cell_type": "code",
      "execution_count": null,
      "metadata": {
        "id": "dSMJo7AW4nCo"
      },
      "outputs": [],
      "source": [
        "model_folder_name = \"BiLSTM_model_5_glove_128_latent_200_emb_128_batch_10_epochs\""
      ]
    },
    {
      "cell_type": "code",
      "execution_count": null,
      "metadata": {
        "id": "JFLFRkg20N6V"
      },
      "outputs": [],
      "source": [
        "# !cp ./drive/MyDrive/Vassar/Junior\\ Year/Spring/CMPU-366/Final\\ Project/articles_signal_media_100k.json .\n",
        "!cp ./drive/MyDrive/Vassar/Junior\\ Year/Spring/CMPU-366/Final\\ Project/articles_2.json .\n",
        "!cp -r ./drive/MyDrive/Vassar/Junior\\ Year/Spring/CMPU-366/Final\\ Project/glove6B ."
      ]
    },
    {
      "cell_type": "code",
      "execution_count": null,
      "metadata": {
        "id": "Hc8lMx3r8Uug"
      },
      "outputs": [],
      "source": [
        "!cp ./drive/MyDrive/Vassar/Junior\\ Year/Spring/CMPU-366/Final\\ Project/attention.py .\n"
      ]
    },
    {
      "cell_type": "code",
      "execution_count": null,
      "metadata": {
        "id": "AMlyrlMb0zuG"
      },
      "outputs": [],
      "source": [
        "from attention import AttentionLayer"
      ]
    },
    {
      "cell_type": "markdown",
      "metadata": {
        "id": "M5e3Va-HLvVl"
      },
      "source": [
        "# Load data and Preliminaries"
      ]
    },
    {
      "cell_type": "code",
      "execution_count": null,
      "metadata": {
        "id": "ffykXgrc3g3h"
      },
      "outputs": [],
      "source": [
        "contraction_dict = {\"ain't\": \"is not\", \"aren't\": \"are not\",\"can't\": \"cannot\", \"'cause\": \"because\", \"could've\": \"could have\", \"couldn't\": \"could not\",\n",
        "                           \"didn't\": \"did not\",  \"doesn't\": \"does not\", \"don't\": \"do not\", \"hadn't\": \"had not\", \"hasn't\": \"has not\", \"haven't\": \"have not\",\n",
        "                           \"he'd\": \"he would\",\"he'll\": \"he will\", \"he's\": \"he is\", \"how'd\": \"how did\", \"how'd'y\": \"how do you\", \"how'll\": \"how will\", \"how's\": \"how is\",\n",
        "                           \"I'd\": \"I would\", \"I'd've\": \"I would have\", \"I'll\": \"I will\", \"I'll've\": \"I will have\",\"I'm\": \"I am\", \"I've\": \"I have\", \"i'd\": \"i would\",\n",
        "                           \"i'd've\": \"i would have\", \"i'll\": \"i will\",  \"i'll've\": \"i will have\",\"i'm\": \"i am\", \"i've\": \"i have\", \"isn't\": \"is not\", \"it'd\": \"it would\",\n",
        "                           \"it'd've\": \"it would have\", \"it'll\": \"it will\", \"it'll've\": \"it will have\",\"it's\": \"it is\", \"let's\": \"let us\", \"ma'am\": \"madam\",\n",
        "                           \"mayn't\": \"may not\", \"might've\": \"might have\",\"mightn't\": \"might not\",\"mightn't've\": \"might not have\", \"must've\": \"must have\",\n",
        "                           \"mustn't\": \"must not\", \"mustn't've\": \"must not have\", \"needn't\": \"need not\", \"needn't've\": \"need not have\",\"o'clock\": \"of the clock\",\n",
        "                           \"oughtn't\": \"ought not\", \"oughtn't've\": \"ought not have\", \"shan't\": \"shall not\", \"sha'n't\": \"shall not\", \"shan't've\": \"shall not have\",\n",
        "                           \"she'd\": \"she would\", \"she'd've\": \"she would have\", \"she'll\": \"she will\", \"she'll've\": \"she will have\", \"she's\": \"she is\",\n",
        "                           \"should've\": \"should have\", \"shouldn't\": \"should not\", \"shouldn't've\": \"should not have\", \"so've\": \"so have\",\"so's\": \"so as\",\n",
        "                           \"this's\": \"this is\",\"that'd\": \"that would\", \"that'd've\": \"that would have\", \"that's\": \"that is\", \"there'd\": \"there would\",\n",
        "                           \"there'd've\": \"there would have\", \"there's\": \"there is\", \"here's\": \"here is\",\"they'd\": \"they would\", \"they'd've\": \"they would have\",\n",
        "                           \"they'll\": \"they will\", \"they'll've\": \"they will have\", \"they're\": \"they are\", \"they've\": \"they have\", \"to've\": \"to have\",\n",
        "                           \"wasn't\": \"was not\", \"we'd\": \"we would\", \"we'd've\": \"we would have\", \"we'll\": \"we will\", \"we'll've\": \"we will have\", \"we're\": \"we are\",\n",
        "                           \"we've\": \"we have\", \"weren't\": \"were not\", \"what'll\": \"what will\", \"what'll've\": \"what will have\", \"what're\": \"what are\",\n",
        "                           \"what's\": \"what is\", \"what've\": \"what have\", \"when's\": \"when is\", \"when've\": \"when have\", \"where'd\": \"where did\", \"where's\": \"where is\",\n",
        "                           \"where've\": \"where have\", \"who'll\": \"who will\", \"who'll've\": \"who will have\", \"who's\": \"who is\", \"who've\": \"who have\",\n",
        "                           \"why's\": \"why is\", \"why've\": \"why have\", \"will've\": \"will have\", \"won't\": \"will not\", \"won't've\": \"will not have\",\n",
        "                           \"would've\": \"would have\", \"wouldn't\": \"would not\", \"wouldn't've\": \"would not have\", \"y'all\": \"you all\",\n",
        "                           \"y'all'd\": \"you all would\",\"y'all'd've\": \"you all would have\",\"y'all're\": \"you all are\",\"y'all've\": \"you all have\",\n",
        "                           \"you'd\": \"you would\", \"you'd've\": \"you would have\", \"you'll\": \"you will\", \"you'll've\": \"you will have\",\n",
        "                           \"you're\": \"you are\", \"you've\": \"you have\"}"
      ]
    },
    {
      "cell_type": "code",
      "execution_count": null,
      "metadata": {
        "colab": {
          "base_uri": "https://localhost:8080/"
        },
        "id": "ReGw3YyX3yvj",
        "outputId": "e9a318bd-ce18-43f6-d5ef-cdb608105744"
      },
      "outputs": [],
      "source": [
        "import nltk\n",
        "nltk.download('stopwords')\n",
        "nltk.download('words')\n",
        "words = set(nltk.corpus.words.words())\n",
        "\n",
        "stop_words = set(stopwords.words('english')) "
      ]
    },
    {
      "cell_type": "code",
      "execution_count": null,
      "metadata": {
        "id": "kNrqg0xUUaAU"
      },
      "outputs": [],
      "source": [
        "# reference: https://www.tensorflow.org/tutorials/text/nmt_with_attention\n",
        "\n",
        "# Converts the unicode file to ascii\n",
        "import unicodedata\n",
        "\n",
        "def unicode_to_ascii(s):\n",
        "  return ''.join(c for c in unicodedata.normalize('NFD', s)\n",
        "                 if unicodedata.category(c) != 'Mn')\n",
        "  \n",
        "def preprocess_text(text, is_article):\n",
        "  text = unicode_to_ascii(text.lower().strip())\n",
        "\n",
        "  # remove url\n",
        "  text = re.sub(r'''(?i)\\b((?:https?://|www\\d{0,3}[.]|[a-z0-9.\\-]+[.][a-z]{2,4}/)(?:[^\\s()<>]+|\\(([^\\s()<>]+|(\\([^\\s()<>]+\\)))*\\))+(?:\\(([^\\s()<>]+|(\\([^\\s()<>]+\\)))*\\)|[^\\s`!()\\[\\]{};:'\".,<>?«»“”‘’]))''', \"\", text)\n",
        "\n",
        "  # remove all words containing forward slashes and backslashes\n",
        "  text = re.sub(r'\\s*(?:[\\w_]*[/\\\\](?:[\\w_]*[/\\\\])*[\\w_]*)', \"\", text)\n",
        "  text = re.sub(u\"(\\u2018|\\u2019)\", \"'\", text) \n",
        "  # text = re.sub(r\"\\\\\\w+\", \"\", text)\n",
        "  \n",
        "  # remove ordinals:\n",
        "  text = re.sub(r'(?<=[0-9])(?:st|nd|rd|th)', \"\", text)\n",
        "  \n",
        "  # creating a space between a word and the punctuation following it\n",
        "  # eg: \"he is a boy.\" => \"he is a boy .\"\n",
        "  # Reference:- https://stackoverflow.com/questions/3645931/python-padding-punctuation-with-white-spaces-keeping-punctuation\n",
        "  \n",
        "  text = ' '.join([contraction_dict[t] if t in contraction_dict else t for t in text.split(\" \")])    \n",
        "  text = re.sub(r\"([?.!,¿])\", r\" \\1 \", text)\n",
        "  text = re.sub(r'[\" \"]+', \" \", text)\n",
        "\n",
        "  text = re.sub(r\"'s\\b\",\"\",text)  \n",
        "  \n",
        "  text = text.replace(\"'\", \"\")\n",
        "  \n",
        "  # replacing everything with space except (a-z, A-Z, \".\", \"?\", \"!\", \",\")\n",
        "  text = re.sub(r\"[^a-zA-Z?.!,¿]+\", \" \", text)\n",
        "\n",
        "  if is_article:\n",
        "    word_tokens = [word for word in text.split() if not word in stop_words]\n",
        "  else: # not remove stop words from summary\n",
        "    word_tokens = text.split()\n",
        "\n",
        "  processed_text_tokens = []\n",
        "  for word_token in word_tokens:\n",
        "    if len(word_token) > 1:\n",
        "      processed_text_tokens.append(word_token)\n",
        "\n",
        "  text = (\" \".join(processed_text_tokens))\n",
        "  text = text.strip()\n",
        "\n",
        "  return text"
      ]
    },
    {
      "cell_type": "code",
      "execution_count": null,
      "metadata": {
        "id": "gREiHids1P0C"
      },
      "outputs": [],
      "source": [
        "article_list = []\n",
        "title_list = []\n",
        "\n",
        "import json \n",
        "\n",
        "with open('articles_2.json') as f:\n",
        "  data = json.load(f)\n",
        "\n",
        "for json_object in data:\n",
        "  article = json_object['content']\n",
        "  article = preprocess_text(article, is_article = True)\n",
        "  article_list.append(article)\n",
        "\n",
        "  title = json_object['title']\n",
        "  title = preprocess_text(title, is_article = False)\n",
        "  title = 'sostoken ' + title + ' eostoken'\n",
        "  title_list.append(title)"
      ]
    },
    {
      "cell_type": "code",
      "execution_count": null,
      "metadata": {
        "colab": {
          "base_uri": "https://localhost:8080/",
          "height": 281
        },
        "id": "vyWYmmV0b4Ja",
        "outputId": "4b77973d-23cd-4b46-a5d8-2e98f0e07f6b"
      },
      "outputs": [],
      "source": [
        "import matplotlib.pyplot as plt\n",
        "article_word_count = []\n",
        "title_word_count = []\n",
        "\n",
        "# populate the lists with sentence lengths\n",
        "for full_article in full_article_list:\n",
        "  article_word_count.append(len(full_article.split()))\n",
        "\n",
        "for title in title_list:\n",
        "  title_word_count.append(len(title.split()))\n",
        "\n",
        "length_df = pd.DataFrame({'full_article': article_word_count, 'title':title_word_count})\n",
        "length_df.hist(bins = 30)\n",
        "plt.show()"
      ]
    },
    {
      "cell_type": "code",
      "execution_count": null,
      "metadata": {
        "colab": {
          "base_uri": "https://localhost:8080/"
        },
        "id": "GcIUeMA26zKJ",
        "outputId": "16e33cfa-d3c3-4b9f-bb47-3852cedfc507"
      },
      "outputs": [],
      "source": [
        "print(length_df['full_article'].values)\n",
        "\n",
        "for i in range(0,100,10):\n",
        "  full_article_lens = length_df['full_article'].values\n",
        "  full_article_lens = np.sort(full_article_lens, axis = None)\n",
        "  cur_percentile_len = full_article_lens[int(len(full_article_lens) * float(i)/100)]\n",
        "  print(\"{} percentile full text length is {}\".format(i, cur_percentile_len))"
      ]
    },
    {
      "cell_type": "markdown",
      "metadata": {
        "id": "Rxu6hLHE_VmB"
      },
      "source": []
    },
    {
      "cell_type": "code",
      "execution_count": null,
      "metadata": {
        "id": "wOCZpNV47IF-"
      },
      "outputs": [],
      "source": [
        "max_len_article = 512\n",
        "max_len_title = 25"
      ]
    },
    {
      "cell_type": "markdown",
      "metadata": {
        "id": "VwCj75_5EaZf"
      },
      "source": [
        "Select the texts and summary whose length is less than `max_len_article` and `max_len_title` title"
      ]
    },
    {
      "cell_type": "code",
      "execution_count": null,
      "metadata": {
        "id": "5CAjAJaLhdBn"
      },
      "outputs": [],
      "source": [
        "min_len_article = 50\n",
        "min_len_title = 5"
      ]
    },
    {
      "cell_type": "code",
      "execution_count": null,
      "metadata": {
        "id": "muT8Jb0wEZHc"
      },
      "outputs": [],
      "source": [
        "short_article_list = []\n",
        "short_title_list = []\n",
        "for i in range(len(article_list)):\n",
        "  if (len(article_list[i].split()) <= min_len_article\n",
        "          and len(title_list[i].split()) <= min_len_title):\n",
        "    continue\n",
        "  if (len(article_list[i].split()) <= max_len_article\n",
        "          and len(title_list[i].split()) <= max_len_title):\n",
        "    short_article_list.append(article_list[i])\n",
        "    short_title_list.append(title_list[i])\n"
      ]
    },
    {
      "cell_type": "code",
      "execution_count": null,
      "metadata": {
        "colab": {
          "base_uri": "https://localhost:8080/"
        },
        "id": "h17aVuY5UaAX",
        "outputId": "c6c772c8-3e50-4044-9d49-a8ec403dc5bb"
      },
      "outputs": [],
      "source": [
        "df = pd.DataFrame({'article': short_article_list, 'title': short_title_list}) \n",
        "df['title']"
      ]
    },
    {
      "cell_type": "code",
      "execution_count": null,
      "metadata": {
        "colab": {
          "base_uri": "https://localhost:8080/"
        },
        "id": "VyrRrDhkJgMi",
        "outputId": "0d0a984c-e1bf-4bbe-f7b2-dfd50753c113"
      },
      "outputs": [],
      "source": [
        "print(len(article_list), len(title_list))\n",
        "print(len(short_article_list), len(short_title_list))"
      ]
    },
    {
      "cell_type": "markdown",
      "metadata": {
        "id": "UpXg4qjmis1e"
      },
      "source": [
        "# Tokenize"
      ]
    },
    {
      "cell_type": "code",
      "execution_count": null,
      "metadata": {
        "id": "fybMDuUFUaAX"
      },
      "outputs": [],
      "source": [
        "def tokenize(text_train, text_validate, max_len_text):\n",
        "    text_tokenizer = Tokenizer()\n",
        "    text_tokenizer.fit_on_texts(list(text_train))\n",
        "\n",
        "    #convert text sequences into integer sequences\n",
        "    text_train = text_tokenizer.texts_to_sequences(text_train)\n",
        "    text_validate = text_tokenizer.texts_to_sequences(text_validate)\n",
        "\n",
        "    # max_len_text = max(len(text) for text in text_train)\n",
        "\n",
        "    #padding zero upto maximum length\n",
        "    text_train = pad_sequences(text_train, maxlen=max_len_text, padding='post')\n",
        "    text_validate = pad_sequences(text_validate, maxlen=max_len_text, padding='post')\n",
        "\n",
        "    text_vocab_size = len(text_tokenizer.word_index) + 1\n",
        "\n",
        "    return text_tokenizer, text_train, text_validate, text_vocab_size\n"
      ]
    },
    {
      "cell_type": "code",
      "execution_count": null,
      "metadata": {
        "id": "9d0bKqmxUaAX"
      },
      "outputs": [],
      "source": [
        "from sklearn.model_selection import train_test_split\n",
        "x_train, x_validate, y_train, y_validate=train_test_split(np.array(df['article']),np.array(df['title']),test_size=0.1,random_state=0,shuffle=True)"
      ]
    },
    {
      "cell_type": "code",
      "execution_count": null,
      "metadata": {
        "colab": {
          "base_uri": "https://localhost:8080/"
        },
        "id": "bnNKMkqzUaAY",
        "outputId": "2b2a768e-ad10-4621-da5d-1f06cd04f655"
      },
      "outputs": [],
      "source": [
        "# Tokenize article\n",
        "x_tokenizer, x_train, x_validate, x_vocab_size = tokenize(x_train, x_validate, max_len_article)"
      ]
    },
    {
      "cell_type": "code",
      "execution_count": null,
      "metadata": {
        "colab": {
          "base_uri": "https://localhost:8080/"
        },
        "id": "NTUHI7OIUaAY",
        "outputId": "6702df82-4ce5-42d7-c73d-2b9d849feda9"
      },
      "outputs": [],
      "source": [
        "x_vocab_size"
      ]
    },
    {
      "cell_type": "code",
      "execution_count": null,
      "metadata": {
        "colab": {
          "base_uri": "https://localhost:8080/"
        },
        "id": "Dybv3MSQUaAY",
        "outputId": "58cfe1c1-3d2c-4654-d2aa-37fbee8fce53"
      },
      "outputs": [],
      "source": [
        "# Tokenize title\n",
        "y_tokenizer, y_train, y_validate, y_vocab_size = tokenize(y_train, y_validate, max_len_title)"
      ]
    },
    {
      "cell_type": "code",
      "execution_count": null,
      "metadata": {
        "colab": {
          "base_uri": "https://localhost:8080/"
        },
        "id": "V_RSFzEkUaAZ",
        "outputId": "327a5c56-edf4-4a9f-bf51-2f92d3ae8721"
      },
      "outputs": [],
      "source": [
        "y_tokenizer.word_counts['sostoken'],len(y_train)"
      ]
    },
    {
      "cell_type": "markdown",
      "metadata": {
        "id": "4nRJXjqLUaAZ"
      },
      "source": [
        "Delete the rows that only contains the `<start>` and `<end>` token"
      ]
    },
    {
      "cell_type": "code",
      "execution_count": null,
      "metadata": {
        "id": "pw8BR7I6UaAZ"
      },
      "outputs": [],
      "source": [
        "def get_rows_with_only_start_end(data):\n",
        "    indices = []\n",
        "\n",
        "    for i in range(len(data)):\n",
        "        count = 0\n",
        "        for j in data[i]:\n",
        "            if j != 0:\n",
        "                count += 1\n",
        "        if count == 2:\n",
        "            indices.append(i)\n",
        "            \n",
        "    return indices\n",
        "    "
      ]
    },
    {
      "cell_type": "code",
      "execution_count": null,
      "metadata": {
        "id": "86VvPJT0UaAa"
      },
      "outputs": [],
      "source": [
        "train_row_with_only_start_end = get_rows_with_only_start_end(y_train)\n",
        "\n",
        "y_train = np.delete(y_train, train_row_with_only_start_end, axis=0)\n",
        "x_train = np.delete(x_train, train_row_with_only_start_end, axis=0)"
      ]
    },
    {
      "cell_type": "code",
      "execution_count": null,
      "metadata": {
        "id": "r_1_fOHvUaAa"
      },
      "outputs": [],
      "source": [
        "validate_row_with_only_start_end = get_rows_with_only_start_end(y_validate)\n",
        "\n",
        "y_validate = np.delete(y_validate, validate_row_with_only_start_end, axis=0)\n",
        "x_validate = np.delete(x_validate, validate_row_with_only_start_end, axis=0)"
      ]
    },
    {
      "cell_type": "code",
      "execution_count": null,
      "metadata": {
        "id": "hfYyW6PFk3Ke"
      },
      "outputs": [],
      "source": [
        "np.save(\"{}/training_data_nd_array/{}/x_train.npy\".format(drive_folder_path, model_folder_name), x_train)\n",
        "np.save(\"{}/training_data_nd_array/{}/y_train.npy\".format(drive_folder_path, model_folder_name), y_train)\n",
        "np.save(\"{}/training_data_nd_array/{}/x_validate.npy\".format(drive_folder_path, model_folder_name), x_validate)\n",
        "np.save(\"{}/training_data_nd_array/{}/y_validate.npy\".format(drive_folder_path, model_folder_name), y_validate)"
      ]
    },
    {
      "cell_type": "markdown",
      "metadata": {
        "id": "Pss19AOQVDyM"
      },
      "source": [
        "# Glove Embeddings"
      ]
    },
    {
      "cell_type": "code",
      "execution_count": null,
      "metadata": {
        "colab": {
          "base_uri": "https://localhost:8080/"
        },
        "id": "cGUPHDQJVFm9",
        "outputId": "5e7b9f52-5018-44b3-96f9-a7cb565dc3b3"
      },
      "outputs": [],
      "source": [
        "embeddings_dict = {}\n",
        "\n",
        "with open('glove6B/glove.6B.200d.txt', 'r') as glove_file:\n",
        "  for line in glove_file:\n",
        "    word, coefs = line.split(maxsplit=1)\n",
        "    coefs = np.fromstring(coefs, \"f\", sep=\" \")\n",
        "    embeddings_dict[word] = coefs\n",
        "\n",
        "print(\"Found %s word vectors.\" % len(embeddings_dict))\n"
      ]
    },
    {
      "cell_type": "code",
      "execution_count": null,
      "metadata": {
        "colab": {
          "base_uri": "https://localhost:8080/"
        },
        "id": "JcGnVbr8Zm1t",
        "outputId": "f8778fe8-dc0b-473b-b101-e7dd5caf1f4c"
      },
      "outputs": [],
      "source": [
        "embedding_matrix = np.zeros((x_vocab_size, 200))\n",
        "\n",
        "hits = 0\n",
        "misses = 0\n",
        "\n",
        "for word, i in x_tokenizer.word_index.items():\n",
        "  embedding_vector = embeddings_dict.get(word)\n",
        "  if embedding_vector is not None:\n",
        "    embedding_matrix[i] = embedding_vector\n",
        "    hits += 1\n",
        "  else: \n",
        "    misses += 1\n",
        "\n",
        "print(\"Converted %d words (%d misses)\" % (hits, misses))"
      ]
    },
    {
      "cell_type": "code",
      "execution_count": null,
      "metadata": {
        "id": "ebtVJi3CEWGa"
      },
      "outputs": [],
      "source": [
        "np.save(\"{}/embeddings/{}/glove_emb.npy\".format(drive_folder_path, model_folder_name), embedding_matrix)"
      ]
    },
    {
      "cell_type": "markdown",
      "metadata": {
        "id": "pzzZYJgwXfIE"
      },
      "source": [
        "# Build Model"
      ]
    },
    {
      "cell_type": "code",
      "execution_count": null,
      "metadata": {
        "colab": {
          "base_uri": "https://localhost:8080/"
        },
        "id": "-tRB7kQrUaAa",
        "outputId": "e2730dea-836c-444b-d5d6-1d212f46e1e2"
      },
      "outputs": [],
      "source": [
        "from keras import backend as K\n",
        "\n",
        "K.clear_session()\n",
        "\n",
        "latent_dim = 128\n",
        "embedding_dim = 200\n",
        "\n",
        "# define encoder input\n",
        "encoder_inputs = Input(shape=(max_len_full_text, ))\n",
        "\n",
        "# define encoder embedding layer\n",
        "# encoder_embedding_layer = Embedding(x_vocab_size, embedding_dim, trainable=True)\n",
        "encoder_embedding_layer = Embedding(x_vocab_size, embedding_dim, trainable=False)\n",
        "encoder_embedding = encoder_embedding_layer(encoder_inputs)\n",
        "encoder_embedding_layer.set_weights([embedding_matrix])\n",
        "\n",
        "\n",
        "# define 1st encoder lstm layer\n",
        "encoder_lstm_1 = Bidirectional(LSTM(latent_dim, return_sequences=True, return_state=True, dropout=0.4, recurrent_dropout = 0.4))\n",
        "encoder_output_1, state_forward_h1, state_forward_c1, state_backward_h1, state_backward_c1 = encoder_lstm_1(encoder_embedding)\n",
        "\n",
        "# define 2nd encoder lstm layer\n",
        "encoder_lstm_2 = Bidirectional(LSTM(latent_dim, return_sequences=True, return_state=True, dropout=0.4, recurrent_dropout = 0.4))\n",
        "encoder_output_2, state_forward_h2, state_forward_c2, state_backward_h2, state_backward_c2 = encoder_lstm_2(encoder_output_1)\n",
        "\n",
        "# define 3rd encoder lstm layer\n",
        "encoder_lstm_3 = Bidirectional(LSTM(latent_dim, return_sequences=True, return_state=True, dropout=0.4, recurrent_dropout = 0.4))\n",
        "encoder_outputs, state_forward_h, state_forward_c, state_backward_h, state_backward_c  = encoder_lstm_3(encoder_output_2)\n",
        "\n",
        "state_h = Concatenate()([state_forward_h, state_backward_h])\n",
        "state_c = Concatenate()([state_forward_c, state_backward_c])\n",
        "encoder_states = [state_h, state_c]\n",
        "\n",
        "\n",
        "# define decoder input \n",
        "decoder_inputs = Input(shape=(None, ))\n",
        "\n",
        "# define decoder embedding layer\n",
        "# decoder_embedding_layer = Embedding(y_vocab_size, embedding_dim, trainable=True)\n",
        "decoder_embedding_layer = Embedding(x_vocab_size, embedding_dim, trainable=False)\n",
        "decoder_embedding = decoder_embedding_layer(decoder_inputs)\n",
        "decoder_embedding_layer.set_weights([embedding_matrix])\n",
        " \n",
        "# define decoder lstm layer\n",
        "decoder_lstm = LSTM(latent_dim * 2, return_sequences=True, return_state=True, dropout=0.2, recurrent_dropout = 0.2)\n",
        "# decoder_input_states = [state_h, state_c]\n",
        "decoder_input_state = encoder_states\n",
        "decoder_outputs, _, _ = decoder_lstm(decoder_embedding, initial_state = decoder_input_state)\n",
        "\n",
        "# implement the Attention layer\n",
        "attention_layer = AttentionLayer(name='attention_layer')\n",
        "attention_input_states = [encoder_outputs, decoder_outputs]\n",
        "attention_output, attention_states = attention_layer(attention_input_states)\n",
        "\n",
        "# attention_layer = tf.keras.layers.AdditiveAttention()\n",
        "# attention_output = attention_layer(attention_input_states)\n",
        "# print(attention_output)\n",
        "# print(decoder_outputs)\n",
        "\n",
        "# define concatenate layer\n",
        "concatenate_layer = Concatenate(axis=-1, name='concat_layer')\n",
        "\n",
        "# define layer of concatenated attention output and decoder lstm outputs\n",
        "decoder_concatenated_layer = concatenate_layer([decoder_outputs, attention_output])\n",
        "\n",
        "# define the dense layer\n",
        "decoder_dense = TimeDistributed(Dense(y_vocab_size, activation='softmax'))\n",
        "decoder_outputs = decoder_dense(decoder_concatenated_layer)\n",
        "\n",
        "# define the model\n",
        "model = Model([encoder_inputs, decoder_inputs], decoder_outputs)\n",
        "\n",
        "model.summary()"
      ]
    },
    {
      "cell_type": "code",
      "execution_count": null,
      "metadata": {
        "colab": {
          "base_uri": "https://localhost:8080/",
          "height": 953
        },
        "id": "wKjTEAug5j44",
        "outputId": "2b8484be-171d-47d2-94bb-38fcc6ce0970"
      },
      "outputs": [],
      "source": [
        "tf.keras.utils.plot_model(model)"
      ]
    },
    {
      "cell_type": "code",
      "execution_count": null,
      "metadata": {
        "id": "MM3aExLRrDV5"
      },
      "outputs": [],
      "source": [
        "model.compile(optimizer='rmsprop', loss='sparse_categorical_crossentropy', metrics=['accuracy'])"
      ]
    },
    {
      "cell_type": "code",
      "execution_count": null,
      "metadata": {
        "id": "5hkZ3OceKiDQ"
      },
      "outputs": [],
      "source": [
        "import tensorflow as tf\n",
        "gpu_options = tf.compat.v1.GPUOptions(allow_growth=True)\n",
        "session = tf.compat.v1.InteractiveSession(config=tf.compat.v1.ConfigProto(gpu_options=gpu_options))"
      ]
    },
    {
      "cell_type": "code",
      "execution_count": null,
      "metadata": {
        "id": "VxBiCaQVt3yi"
      },
      "outputs": [],
      "source": [
        "early_stopping = EarlyStopping(monitor='val_loss', mode = 'min', patience=2, verbose=1)"
      ]
    },
    {
      "cell_type": "code",
      "execution_count": null,
      "metadata": {
        "colab": {
          "background_save": true,
          "base_uri": "https://localhost:8080/"
        },
        "id": "9cblqIMZvBEU",
        "outputId": "e9f15371-7450-430e-d45a-7159f1604925"
      },
      "outputs": [],
      "source": [
        "history = model.fit(\n",
        "    x = [x_train, y_train[:, :-1]],\n",
        "    y = y_train.reshape(y_train.shape[0], y_train.shape[1], 1)[:, 1:],\n",
        "    epochs = 10,\n",
        "    callbacks=[early_stopping],\n",
        "    batch_size = 128,\n",
        "    validation_data=([x_validate,y_validate[:,:-1]], y_validate.reshape(y_validate.shape[0],y_validate.shape[1], 1)[:,1:])\n",
        "  )"
      ]
    },
    {
      "cell_type": "code",
      "execution_count": null,
      "metadata": {
        "colab": {
          "background_save": true
        },
        "id": "1V1TehIV7iKa"
      },
      "outputs": [],
      "source": [
        "df_history = pd.DataFrame(history.history)\n",
        "\n",
        "# or save to csv: \n",
        "history_csv_file = \"{}/history/{}.csv\".format(drive_folder_path, model_folder_name)\n",
        "\n",
        "with open(history_csv_file, mode='w') as csv_file:\n",
        "    df_history.to_csv(csv_file)"
      ]
    },
    {
      "cell_type": "code",
      "execution_count": null,
      "metadata": {
        "id": "JtvuxesAeuj4"
      },
      "outputs": [],
      "source": [
        "model.save(\"drive/MyDrive/Vassar/Junior Year/Spring/CMPU-366/Final Project/model/{}\".format(model_folder_name))"
      ]
    },
    {
      "cell_type": "markdown",
      "metadata": {
        "id": "19dOejPwu_3Y"
      },
      "source": []
    },
    {
      "cell_type": "code",
      "execution_count": null,
      "metadata": {
        "colab": {
          "background_save": true
        },
        "id": "qcQrmZsXoChM",
        "outputId": "d861ac30-c591-4e86-bac9-c558e191c83d"
      },
      "outputs": [],
      "source": [
        "from matplotlib import pyplot\n",
        "pyplot.plot(history.history['loss'], label='train')\n",
        "pyplot.plot(history.history['val_loss'], label='test')\n",
        "pyplot.legend()\n",
        "pyplot.show()"
      ]
    },
    {
      "cell_type": "code",
      "execution_count": null,
      "metadata": {
        "colab": {
          "background_save": true
        },
        "id": "AYn65O64oDQO",
        "outputId": "ac9ce02e-c061-4534-fa3d-bc6f856608b6"
      },
      "outputs": [],
      "source": [
        "reverse_target_word_index=y_tokenizer.index_word\n",
        "reverse_source_word_index=x_tokenizer.index_word\n",
        "target_word_index=y_tokenizer.word_index"
      ]
    },
    {
      "cell_type": "code",
      "execution_count": null,
      "metadata": {
        "id": "ky4sb1xMmU83"
      },
      "outputs": [],
      "source": [
        "import json\n",
        "\n",
        "# save word index dictionaries\n",
        "json.dump(reverse_target_word_index, open( \"{}/word_idx_dict/{}/reverse_target_word_index.json\".format(drive_folder_path, model_folder_name), 'w' ) )\n",
        "json.dump(reverse_source_word_index, open( \"{}/word_idx_dict/{}/reverse_source_word_index.json\".format(drive_folder_path, model_folder_name), 'w' ) )\n",
        "json.dump(target_word_index, open( \"{}/word_idx_dict/{}/target_word_index.json\".format(drive_folder_path, model_folder_name), 'w' ) )\n"
      ]
    }
  ],
  "metadata": {
    "accelerator": "GPU",
    "colab": {
      "collapsed_sections": [],
      "machine_shape": "hm",
      "name": "cmpu366__final_proj_bi_lstm_glove_build_model.ipynb",
      "provenance": [],
      "toc_visible": true
    },
    "kernelspec": {
      "display_name": "Python 3",
      "name": "python3"
    },
    "language_info": {
      "name": "python"
    }
  },
  "nbformat": 4,
  "nbformat_minor": 0
}
